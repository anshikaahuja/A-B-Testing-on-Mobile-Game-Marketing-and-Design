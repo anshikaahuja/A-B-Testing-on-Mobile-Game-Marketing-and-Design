{
  "nbformat": 4,
  "nbformat_minor": 0,
  "metadata": {
    "colab": {
      "name": "A_B Testing_Anshika.ipynb",
      "provenance": [],
      "toc_visible": true
    },
    "kernelspec": {
      "name": "python3",
      "display_name": "Python 3"
    }
  },
  "cells": [
    {
      "cell_type": "code",
      "metadata": {
        "id": "NFjEEBcy82aP",
        "colab_type": "code",
        "colab": {}
      },
      "source": [
        "import pandas as pd\n",
        "import numpy as np\n",
        "import random\n",
        "import matplotlib.pyplot as plt\n",
        "%matplotlib inline\n",
        "from IPython.display import display\n",
        "import math as mt\n",
        "from scipy.stats import norm"
      ],
      "execution_count": 0,
      "outputs": []
    },
    {
      "cell_type": "markdown",
      "metadata": {
        "id": "r1aySrHNCdfD",
        "colab_type": "text"
      },
      "source": [
        "# Reading the data"
      ]
    },
    {
      "cell_type": "code",
      "metadata": {
        "id": "DPqmRhpQ85rw",
        "colab_type": "code",
        "outputId": "2bbe79c4-edc8-4a51-a797-ef7c2d37d098",
        "colab": {
          "base_uri": "https://localhost:8080/",
          "height": 195
        }
      },
      "source": [
        "df = pd.read_csv('cookie_cats.csv')\n",
        "df.head()"
      ],
      "execution_count": 0,
      "outputs": [
        {
          "output_type": "execute_result",
          "data": {
            "text/html": [
              "<div>\n",
              "<style scoped>\n",
              "    .dataframe tbody tr th:only-of-type {\n",
              "        vertical-align: middle;\n",
              "    }\n",
              "\n",
              "    .dataframe tbody tr th {\n",
              "        vertical-align: top;\n",
              "    }\n",
              "\n",
              "    .dataframe thead th {\n",
              "        text-align: right;\n",
              "    }\n",
              "</style>\n",
              "<table border=\"1\" class=\"dataframe\">\n",
              "  <thead>\n",
              "    <tr style=\"text-align: right;\">\n",
              "      <th></th>\n",
              "      <th>userid</th>\n",
              "      <th>version</th>\n",
              "      <th>sum_gamerounds</th>\n",
              "      <th>retention_1</th>\n",
              "      <th>retention_7</th>\n",
              "    </tr>\n",
              "  </thead>\n",
              "  <tbody>\n",
              "    <tr>\n",
              "      <th>0</th>\n",
              "      <td>116</td>\n",
              "      <td>gate_30</td>\n",
              "      <td>3</td>\n",
              "      <td>False</td>\n",
              "      <td>False</td>\n",
              "    </tr>\n",
              "    <tr>\n",
              "      <th>1</th>\n",
              "      <td>337</td>\n",
              "      <td>gate_30</td>\n",
              "      <td>38</td>\n",
              "      <td>True</td>\n",
              "      <td>False</td>\n",
              "    </tr>\n",
              "    <tr>\n",
              "      <th>2</th>\n",
              "      <td>377</td>\n",
              "      <td>gate_40</td>\n",
              "      <td>165</td>\n",
              "      <td>True</td>\n",
              "      <td>False</td>\n",
              "    </tr>\n",
              "    <tr>\n",
              "      <th>3</th>\n",
              "      <td>483</td>\n",
              "      <td>gate_40</td>\n",
              "      <td>1</td>\n",
              "      <td>False</td>\n",
              "      <td>False</td>\n",
              "    </tr>\n",
              "    <tr>\n",
              "      <th>4</th>\n",
              "      <td>488</td>\n",
              "      <td>gate_40</td>\n",
              "      <td>179</td>\n",
              "      <td>True</td>\n",
              "      <td>True</td>\n",
              "    </tr>\n",
              "  </tbody>\n",
              "</table>\n",
              "</div>"
            ],
            "text/plain": [
              "   userid  version  sum_gamerounds  retention_1  retention_7\n",
              "0     116  gate_30               3        False        False\n",
              "1     337  gate_30              38         True        False\n",
              "2     377  gate_40             165         True        False\n",
              "3     483  gate_40               1        False        False\n",
              "4     488  gate_40             179         True         True"
            ]
          },
          "metadata": {
            "tags": []
          },
          "execution_count": 31
        }
      ]
    },
    {
      "cell_type": "markdown",
      "metadata": {
        "id": "Cl5jaHIzKqn4",
        "colab_type": "text"
      },
      "source": [
        "# Exploratory Data Analysis"
      ]
    },
    {
      "cell_type": "code",
      "metadata": {
        "id": "edfjxVreAixf",
        "colab_type": "code",
        "outputId": "390e4f85-a0d4-41f6-eeea-dc49936a14c1",
        "colab": {
          "base_uri": "https://localhost:8080/",
          "height": 402
        }
      },
      "source": [
        "df.shape[0]\n",
        "df['userid'].nunique()\n",
        "df['retention_1']=df['retention_1'].map({False: 0, True: 1 })\n",
        "df['retention_7']=df['retention_7'].map({False: 0, True: 1 })\n",
        "df"
      ],
      "execution_count": 0,
      "outputs": [
        {
          "output_type": "execute_result",
          "data": {
            "text/html": [
              "<div>\n",
              "<style scoped>\n",
              "    .dataframe tbody tr th:only-of-type {\n",
              "        vertical-align: middle;\n",
              "    }\n",
              "\n",
              "    .dataframe tbody tr th {\n",
              "        vertical-align: top;\n",
              "    }\n",
              "\n",
              "    .dataframe thead th {\n",
              "        text-align: right;\n",
              "    }\n",
              "</style>\n",
              "<table border=\"1\" class=\"dataframe\">\n",
              "  <thead>\n",
              "    <tr style=\"text-align: right;\">\n",
              "      <th></th>\n",
              "      <th>userid</th>\n",
              "      <th>version</th>\n",
              "      <th>sum_gamerounds</th>\n",
              "      <th>retention_1</th>\n",
              "      <th>retention_7</th>\n",
              "    </tr>\n",
              "  </thead>\n",
              "  <tbody>\n",
              "    <tr>\n",
              "      <th>0</th>\n",
              "      <td>116</td>\n",
              "      <td>gate_30</td>\n",
              "      <td>3</td>\n",
              "      <td>0</td>\n",
              "      <td>0</td>\n",
              "    </tr>\n",
              "    <tr>\n",
              "      <th>1</th>\n",
              "      <td>337</td>\n",
              "      <td>gate_30</td>\n",
              "      <td>38</td>\n",
              "      <td>1</td>\n",
              "      <td>0</td>\n",
              "    </tr>\n",
              "    <tr>\n",
              "      <th>2</th>\n",
              "      <td>377</td>\n",
              "      <td>gate_40</td>\n",
              "      <td>165</td>\n",
              "      <td>1</td>\n",
              "      <td>0</td>\n",
              "    </tr>\n",
              "    <tr>\n",
              "      <th>3</th>\n",
              "      <td>483</td>\n",
              "      <td>gate_40</td>\n",
              "      <td>1</td>\n",
              "      <td>0</td>\n",
              "      <td>0</td>\n",
              "    </tr>\n",
              "    <tr>\n",
              "      <th>4</th>\n",
              "      <td>488</td>\n",
              "      <td>gate_40</td>\n",
              "      <td>179</td>\n",
              "      <td>1</td>\n",
              "      <td>1</td>\n",
              "    </tr>\n",
              "    <tr>\n",
              "      <th>...</th>\n",
              "      <td>...</td>\n",
              "      <td>...</td>\n",
              "      <td>...</td>\n",
              "      <td>...</td>\n",
              "      <td>...</td>\n",
              "    </tr>\n",
              "    <tr>\n",
              "      <th>90184</th>\n",
              "      <td>9999441</td>\n",
              "      <td>gate_40</td>\n",
              "      <td>97</td>\n",
              "      <td>1</td>\n",
              "      <td>0</td>\n",
              "    </tr>\n",
              "    <tr>\n",
              "      <th>90185</th>\n",
              "      <td>9999479</td>\n",
              "      <td>gate_40</td>\n",
              "      <td>30</td>\n",
              "      <td>0</td>\n",
              "      <td>0</td>\n",
              "    </tr>\n",
              "    <tr>\n",
              "      <th>90186</th>\n",
              "      <td>9999710</td>\n",
              "      <td>gate_30</td>\n",
              "      <td>28</td>\n",
              "      <td>1</td>\n",
              "      <td>0</td>\n",
              "    </tr>\n",
              "    <tr>\n",
              "      <th>90187</th>\n",
              "      <td>9999768</td>\n",
              "      <td>gate_40</td>\n",
              "      <td>51</td>\n",
              "      <td>1</td>\n",
              "      <td>0</td>\n",
              "    </tr>\n",
              "    <tr>\n",
              "      <th>90188</th>\n",
              "      <td>9999861</td>\n",
              "      <td>gate_40</td>\n",
              "      <td>16</td>\n",
              "      <td>0</td>\n",
              "      <td>0</td>\n",
              "    </tr>\n",
              "  </tbody>\n",
              "</table>\n",
              "<p>90189 rows × 5 columns</p>\n",
              "</div>"
            ],
            "text/plain": [
              "        userid  version  sum_gamerounds  retention_1  retention_7\n",
              "0          116  gate_30               3            0            0\n",
              "1          337  gate_30              38            1            0\n",
              "2          377  gate_40             165            1            0\n",
              "3          483  gate_40               1            0            0\n",
              "4          488  gate_40             179            1            1\n",
              "...        ...      ...             ...          ...          ...\n",
              "90184  9999441  gate_40              97            1            0\n",
              "90185  9999479  gate_40              30            0            0\n",
              "90186  9999710  gate_30              28            1            0\n",
              "90187  9999768  gate_40              51            1            0\n",
              "90188  9999861  gate_40              16            0            0\n",
              "\n",
              "[90189 rows x 5 columns]"
            ]
          },
          "metadata": {
            "tags": []
          },
          "execution_count": 32
        }
      ]
    },
    {
      "cell_type": "code",
      "metadata": {
        "id": "kw7nC61l87dt",
        "colab_type": "code",
        "outputId": "82f1784f-6b3a-4c04-aab4-160afaece80b",
        "colab": {
          "base_uri": "https://localhost:8080/",
          "height": 218
        }
      },
      "source": [
        "#Check for missing values\n",
        "df.info()"
      ],
      "execution_count": 0,
      "outputs": [
        {
          "output_type": "stream",
          "text": [
            "<class 'pandas.core.frame.DataFrame'>\n",
            "RangeIndex: 90189 entries, 0 to 90188\n",
            "Data columns (total 5 columns):\n",
            " #   Column          Non-Null Count  Dtype \n",
            "---  ------          --------------  ----- \n",
            " 0   userid          90189 non-null  int64 \n",
            " 1   version         90189 non-null  object\n",
            " 2   sum_gamerounds  90189 non-null  int64 \n",
            " 3   retention_1     90189 non-null  int64 \n",
            " 4   retention_7     90189 non-null  int64 \n",
            "dtypes: int64(4), object(1)\n",
            "memory usage: 3.4+ MB\n"
          ],
          "name": "stdout"
        }
      ]
    },
    {
      "cell_type": "code",
      "metadata": {
        "id": "Rc1pAZxX92kV",
        "colab_type": "code",
        "outputId": "938dd35c-d67a-4c63-8b74-7838ad5c9a36",
        "colab": {
          "base_uri": "https://localhost:8080/",
          "height": 136
        }
      },
      "source": [
        "#Looking at the split between test and cotrol groups\n",
        "df.groupby('version').count()"
      ],
      "execution_count": 0,
      "outputs": [
        {
          "output_type": "execute_result",
          "data": {
            "text/html": [
              "<div>\n",
              "<style scoped>\n",
              "    .dataframe tbody tr th:only-of-type {\n",
              "        vertical-align: middle;\n",
              "    }\n",
              "\n",
              "    .dataframe tbody tr th {\n",
              "        vertical-align: top;\n",
              "    }\n",
              "\n",
              "    .dataframe thead th {\n",
              "        text-align: right;\n",
              "    }\n",
              "</style>\n",
              "<table border=\"1\" class=\"dataframe\">\n",
              "  <thead>\n",
              "    <tr style=\"text-align: right;\">\n",
              "      <th></th>\n",
              "      <th>userid</th>\n",
              "      <th>sum_gamerounds</th>\n",
              "      <th>retention_1</th>\n",
              "      <th>retention_7</th>\n",
              "    </tr>\n",
              "    <tr>\n",
              "      <th>version</th>\n",
              "      <th></th>\n",
              "      <th></th>\n",
              "      <th></th>\n",
              "      <th></th>\n",
              "    </tr>\n",
              "  </thead>\n",
              "  <tbody>\n",
              "    <tr>\n",
              "      <th>gate_30</th>\n",
              "      <td>44700</td>\n",
              "      <td>44700</td>\n",
              "      <td>44700</td>\n",
              "      <td>44700</td>\n",
              "    </tr>\n",
              "    <tr>\n",
              "      <th>gate_40</th>\n",
              "      <td>45489</td>\n",
              "      <td>45489</td>\n",
              "      <td>45489</td>\n",
              "      <td>45489</td>\n",
              "    </tr>\n",
              "  </tbody>\n",
              "</table>\n",
              "</div>"
            ],
            "text/plain": [
              "         userid  sum_gamerounds  retention_1  retention_7\n",
              "version                                                  \n",
              "gate_30   44700           44700        44700        44700\n",
              "gate_40   45489           45489        45489        45489"
            ]
          },
          "metadata": {
            "tags": []
          },
          "execution_count": 34
        }
      ]
    },
    {
      "cell_type": "markdown",
      "metadata": {
        "id": "6ob-3Ow8WDnH",
        "colab_type": "text"
      },
      "source": [
        "### Analyzing player behavior"
      ]
    },
    {
      "cell_type": "code",
      "metadata": {
        "id": "i-_EUrKT-MFP",
        "colab_type": "code",
        "outputId": "cc379abe-b092-4c40-a3cb-f6b6142506ce",
        "colab": {
          "base_uri": "https://localhost:8080/",
          "height": 609
        }
      },
      "source": [
        "#Analyzing player level history\n",
        "df['sum_gamerounds'].plot.box(figsize=(5,10))"
      ],
      "execution_count": 0,
      "outputs": [
        {
          "output_type": "execute_result",
          "data": {
            "text/plain": [
              "<matplotlib.axes._subplots.AxesSubplot at 0x7f70d2ee7e80>"
            ]
          },
          "metadata": {
            "tags": []
          },
          "execution_count": 35
        },
        {
          "output_type": "display_data",
          "data": {
            "image/png": "[encoded data removed]",
            "text/plain": [
              "<Figure size 360x720 with 1 Axes>"
            ]
          },
          "metadata": {
            "tags": [],
            "needs_background": "light"
          }
        }
      ]
    },
    {
      "cell_type": "code",
      "metadata": {
        "id": "NNQLNttK-hWs",
        "colab_type": "code",
        "outputId": "152a7639-44e7-45e6-9f8f-1e1a148e12f4",
        "colab": {
          "base_uri": "https://localhost:8080/",
          "height": 168
        }
      },
      "source": [
        "#Removing the outlier\n",
        "print (df['sum_gamerounds'].describe())\n",
        "df = df[df.sum_gamerounds != 49854]"
      ],
      "execution_count": 0,
      "outputs": [
        {
          "output_type": "stream",
          "text": [
            "count    90189.000000\n",
            "mean        51.872457\n",
            "std        195.050858\n",
            "min          0.000000\n",
            "25%          5.000000\n",
            "50%         16.000000\n",
            "75%         51.000000\n",
            "max      49854.000000\n",
            "Name: sum_gamerounds, dtype: float64\n"
          ],
          "name": "stdout"
        }
      ]
    },
    {
      "cell_type": "code",
      "metadata": {
        "id": "EYqlfsIV-6Hx",
        "colab_type": "code",
        "outputId": "f4cbb608-2081-4ecc-e6d1-ac88d1a1b897",
        "colab": {
          "base_uri": "https://localhost:8080/",
          "height": 421
        }
      },
      "source": [
        "#Player level distribution\n",
        "plot_df = df.groupby('sum_gamerounds')['userid'].count()\n",
        "ax = plot_df[:].plot(figsize=(10,6))\n",
        "ax.set_title(\"The number of players that played each # of rounds during the first week\")\n",
        "ax.set_ylabel(\"Number of Players\")\n",
        "ax.set_xlabel('# Game rounds')"
      ],
      "execution_count": 0,
      "outputs": [
        {
          "output_type": "execute_result",
          "data": {
            "text/plain": [
              "Text(0.5, 0, '# Game rounds')"
            ]
          },
          "metadata": {
            "tags": []
          },
          "execution_count": 37
        },
        {
          "output_type": "display_data",
          "data": {
            "image/png": "[encoded data removed]",
            "text/plain": [
              "<Figure size 720x432 with 1 Axes>"
            ]
          },
          "metadata": {
            "tags": [],
            "needs_background": "light"
          }
        }
      ]
    },
    {
      "cell_type": "code",
      "metadata": {
        "id": "1bqwCYmW_1_9",
        "colab_type": "code",
        "outputId": "705115c0-1d8a-4b61-a0bc-a59e6dd496ba",
        "colab": {
          "base_uri": "https://localhost:8080/",
          "height": 421
        }
      },
      "source": [
        "#Player level distribution - first 100\n",
        "ax = plot_df[:100].plot(figsize=(10,6))\n",
        "ax.set_title(\"The number of players that played upto 100 rounds during the first week\")\n",
        "ax.set_ylabel(\"Number of Players\")\n",
        "ax.set_xlabel('# Game rounds')"
      ],
      "execution_count": 0,
      "outputs": [
        {
          "output_type": "execute_result",
          "data": {
            "text/plain": [
              "Text(0.5, 0, '# Game rounds')"
            ]
          },
          "metadata": {
            "tags": []
          },
          "execution_count": 38
        },
        {
          "output_type": "display_data",
          "data": {
            "image/png": "[encoded data removed]",
            "text/plain": [
              "<Figure size 720x432 with 1 Axes>"
            ]
          },
          "metadata": {
            "tags": [],
            "needs_background": "light"
          }
        }
      ]
    },
    {
      "cell_type": "code",
      "metadata": {
        "id": "pgmZBcxuALBU",
        "colab_type": "code",
        "outputId": "7912bc83-4424-4250-a04c-375af4cb8078",
        "colab": {
          "base_uri": "https://localhost:8080/",
          "height": 422
        }
      },
      "source": [
        "# Player level distribution by groups\n",
        "ax = df[df.version == 'gate_30'].groupby('sum_gamerounds')['userid'].count()[:100].plot(figsize=(10,6))\n",
        "ax.set_title(\"The number of players that played upto 100 rounds during the first week\")\n",
        "ax.set_ylabel(\"Number of Players\")\n",
        "ax.set_xlabel('# Game rounds')\n",
        "ax.legend('C')\n",
        "ax = df[df.version == 'gate_40'].groupby('sum_gamerounds')['userid'].count()[:100].plot(figsize=(10,6))\n",
        "ax.legend('T')"
      ],
      "execution_count": 0,
      "outputs": [
        {
          "output_type": "execute_result",
          "data": {
            "text/plain": [
              "<matplotlib.legend.Legend at 0x7f70d2d28898>"
            ]
          },
          "metadata": {
            "tags": []
          },
          "execution_count": 39
        },
        {
          "output_type": "display_data",
          "data": {
            "image/png": "[encoded data removed]",
            "text/plain": [
              "<Figure size 720x432 with 1 Axes>"
            ]
          },
          "metadata": {
            "tags": [],
            "needs_background": "light"
          }
        }
      ]
    },
    {
      "cell_type": "markdown",
      "metadata": {
        "id": "QVoPsGJpW17d",
        "colab_type": "text"
      },
      "source": [
        "From the above graphs we can see that some players never play the game after installing it, some players just play some games in the first week and some get hooked. We want the players to get hooked."
      ]
    },
    {
      "cell_type": "markdown",
      "metadata": {
        "id": "JeRUGjm0BmnT",
        "colab_type": "text"
      },
      "source": [
        "# Analysis"
      ]
    },
    {
      "cell_type": "markdown",
      "metadata": {
        "id": "KarpOKF5_2LZ",
        "colab_type": "text"
      },
      "source": [
        "## Choosing metric"
      ]
    },
    {
      "cell_type": "markdown",
      "metadata": {
        "id": "vbntWUApXNUa",
        "colab_type": "text"
      },
      "source": [
        "To check how likable and engaging the game is, we use 1-day retention. It is easier to retain players and build a large user base if the 1 day retention value is high"
      ]
    },
    {
      "cell_type": "markdown",
      "metadata": {
        "id": "JkjByIY_BpCq",
        "colab_type": "text"
      },
      "source": [
        "### Comparing 1-day retention"
      ]
    },
    {
      "cell_type": "code",
      "metadata": {
        "id": "GF5XaHkSARG2",
        "colab_type": "code",
        "outputId": "960b237b-c4b4-43d8-c7b4-38e18f08b79c",
        "colab": {
          "base_uri": "https://localhost:8080/"
        }
      },
      "source": [
        "df['retention_1'].mean()"
      ],
      "execution_count": 0,
      "outputs": [
        {
          "output_type": "execute_result",
          "data": {
            "text/plain": [
              "0.4452144409455803"
            ]
          },
          "metadata": {
            "tags": []
          },
          "execution_count": 40
        }
      ]
    },
    {
      "cell_type": "markdown",
      "metadata": {
        "id": "PbN_s1fm_q0b",
        "colab_type": "text"
      },
      "source": [
        "One day retention shows that only little less than 50% of the players come back to play after installation"
      ]
    },
    {
      "cell_type": "markdown",
      "metadata": {
        "id": "wsl1ho24As-7",
        "colab_type": "text"
      },
      "source": [
        "### A/B Testing using Boostrapping"
      ]
    },
    {
      "cell_type": "markdown",
      "metadata": {
        "id": "xJkAEJI2AvrV",
        "colab_type": "text"
      },
      "source": [
        "Here we will check if the retention rate is different for the two AB groups"
      ]
    },
    {
      "cell_type": "code",
      "metadata": {
        "id": "2I7SdpM7Bbgi",
        "colab_type": "code",
        "outputId": "cbebaa91-9cc1-4d2b-9510-1a592e95ab16",
        "colab": {
          "base_uri": "https://localhost:8080/"
        }
      },
      "source": [
        "#Proportion of users converted in at 1-day for each AB group\n",
        "print (df[df.version == 'gate_30']['retention_1'].mean())\n",
        "print (df[df.version == 'gate_40']['retention_1'].mean())"
      ],
      "execution_count": 0,
      "outputs": [
        {
          "output_type": "stream",
          "text": [
            "0.4481979462627799\n",
            "0.44228274967574577\n"
          ],
          "name": "stdout"
        }
      ]
    },
    {
      "cell_type": "markdown",
      "metadata": {
        "id": "FN6qgL5NBQnV",
        "colab_type": "text"
      },
      "source": [
        "We can see that there is a slight decrease in the 1 day retention when the gate is moved to level 40"
      ]
    },
    {
      "cell_type": "markdown",
      "metadata": {
        "id": "pFiORADzA4It",
        "colab_type": "text"
      },
      "source": [
        "Can be confident in the difference between the two AB groups?"
      ]
    },
    {
      "cell_type": "code",
      "metadata": {
        "id": "tPjg1tkPCHpG",
        "colab_type": "code",
        "outputId": "9851ece8-e110-44f2-89fb-5735ce87061b",
        "colab": {
          "base_uri": "https://localhost:8080/"
        }
      },
      "source": [
        "# Creating an list with bootstrapped means for each AB-group\n",
        "boot_1d = []\n",
        "for i in range(1000):\n",
        "    boot_mean = df.sample(frac = 1,replace = True).groupby('version')['retention_1'].mean()\n",
        "    boot_1d.append(boot_mean)\n",
        "    \n",
        "# Transforming the list to a DataFrame\n",
        "boot_1d = pd.DataFrame(boot_1d)\n",
        "    \n",
        "# A Kernel Density Estimate plot of the bootstrap distributions\n",
        "boot_1d.plot(kind='density')"
      ],
      "execution_count": 0,
      "outputs": [
        {
          "output_type": "execute_result",
          "data": {
            "text/plain": [
              "<matplotlib.axes._subplots.AxesSubplot at 0x7f70d2c187f0>"
            ]
          },
          "metadata": {
            "tags": []
          },
          "execution_count": 42
        },
        {
          "output_type": "display_data",
          "data": {
            "image/png": "[encoded data removed]",
            "text/plain": [
              "<Figure size 432x288 with 1 Axes>"
            ]
          },
          "metadata": {
            "tags": [],
            "needs_background": "light"
          }
        }
      ]
    },
    {
      "cell_type": "code",
      "metadata": {
        "id": "ilpge92LCQ9w",
        "colab_type": "code",
        "outputId": "0155b8ff-9ed0-42e7-ec20-4fee318c3698",
        "colab": {
          "base_uri": "https://localhost:8080/"
        }
      },
      "source": [
        "# Adding a column with the % difference between the two AB-groups\n",
        "boot_1d['diff'] = (boot_1d.gate_30 - boot_1d.gate_40)/boot_1d.gate_40*100\n",
        "\n",
        "# Ploting the bootstrap % difference\n",
        "ax = boot_1d['diff'].plot(kind='density')\n",
        "ax.set_title('% difference in 1-day retention between the two AB-groups')\n",
        "\n",
        "# Calculating the probability that 1-day retention is greater when the gate is at level 30\n",
        "print('Probability that 1-day retention is greater when the gate is at level 30:',(boot_1d['diff'] > 0).mean())"
      ],
      "execution_count": 0,
      "outputs": [
        {
          "output_type": "stream",
          "text": [
            "Probability that 1-day retention is greater when the gate is at level 30: 0.97\n"
          ],
          "name": "stdout"
        },
        {
          "output_type": "display_data",
          "data": {
            "image/png": "[encoded data removed]",
            "text/plain": [
              "<Figure size 432x288 with 1 Axes>"
            ]
          },
          "metadata": {
            "tags": [],
            "needs_background": "light"
          }
        }
      ]
    },
    {
      "cell_type": "markdown",
      "metadata": {
        "id": "GV4g9JfeBwlU",
        "colab_type": "text"
      },
      "source": [
        "### Comparing 7-day retention"
      ]
    },
    {
      "cell_type": "code",
      "metadata": {
        "id": "7VT7mFNpDiZg",
        "colab_type": "code",
        "outputId": "b4802d1d-0e12-485e-d7b4-78ed7ccd6d20",
        "colab": {
          "base_uri": "https://localhost:8080/"
        }
      },
      "source": [
        "#Proportion of users converted in at 7-day for each AB group\n",
        "print (df[df.version == 'gate_30']['retention_7'].mean())\n",
        "print (df[df.version == 'gate_40']['retention_7'].mean())"
      ],
      "execution_count": 0,
      "outputs": [
        {
          "output_type": "stream",
          "text": [
            "0.19018322557551623\n",
            "0.18200004396667327\n"
          ],
          "name": "stdout"
        }
      ]
    },
    {
      "cell_type": "markdown",
      "metadata": {
        "id": "WZYocyuMCESZ",
        "colab_type": "text"
      },
      "source": [
        "### A/B Testing using Boostrapping"
      ]
    },
    {
      "cell_type": "code",
      "metadata": {
        "id": "YvMJWLPsiwfg",
        "colab_type": "code",
        "outputId": "064a3903-2c5c-4982-a186-69303bc17016",
        "colab": {
          "base_uri": "https://localhost:8080/"
        }
      },
      "source": [
        "# Creating a list with bootstrapped means for each AB-group\n",
        "boot_7d = []\n",
        "for i in range(500):\n",
        "    boot_mean = df.sample(frac=1,replace=True).groupby('version')['retention_7'].mean()\n",
        "    boot_7d.append(boot_mean)\n",
        "    \n",
        "# Transforming the list to a DataFrame\n",
        "boot_7d = pd.DataFrame(boot_7d)\n",
        "\n",
        "# A Kernel Density Estimate plot of the bootstrap distributions\n",
        "boot_7d.plot(kind='density')"
      ],
      "execution_count": 0,
      "outputs": [
        {
          "output_type": "execute_result",
          "data": {
            "text/plain": [
              "<matplotlib.axes._subplots.AxesSubplot at 0x7f70d2bbba20>"
            ]
          },
          "metadata": {
            "tags": []
          },
          "execution_count": 45
        },
        {
          "output_type": "display_data",
          "data": {
            "image/png": "[encoded data removed]",
            "text/plain": [
              "<Figure size 432x288 with 1 Axes>"
            ]
          },
          "metadata": {
            "tags": [],
            "needs_background": "light"
          }
        }
      ]
    },
    {
      "cell_type": "code",
      "metadata": {
        "id": "xr33nVcVVguv",
        "colab_type": "code",
        "outputId": "1b072bb0-41d3-4950-d782-48db60120ef0",
        "colab": {
          "base_uri": "https://localhost:8080/"
        }
      },
      "source": [
        "# Creating a list with bootstrapped means for each AB-group\n",
        "boot_7d = []\n",
        "for i in range(500):\n",
        "    boot_mean = df.sample(frac=1,replace=True).groupby('version')['retention_7'].mean()\n",
        "    boot_7d.append(boot_mean)\n",
        "    \n",
        "# Transforming the list to a DataFrame\n",
        "boot_7d = pd.DataFrame(boot_7d)\n",
        "\n",
        "# Adding a column with the % difference between the two AB-groups\n",
        "boot_7d['diff'] = (boot_7d.gate_30 - boot_7d.gate_40)/boot_7d.gate_40*100\n",
        "\n",
        "# Ploting the bootstrap % difference\n",
        "ax = boot_7d['diff'].plot(kind='density')\n",
        "ax.set_title('% difference in 7-day retention between the two AB-groups')\n",
        "\n",
        "# Calculating the probability that 7-day retention is greater when the gate is at level 30\n",
        "print('Probability that 7-day retention is greater when the gate is at level 30:',(boot_7d['diff'] > 0).mean())"
      ],
      "execution_count": 0,
      "outputs": [
        {
          "output_type": "stream",
          "text": [
            "Probability that 7-day retention is greater when the gate is at level 30: 0.996\n"
          ],
          "name": "stdout"
        },
        {
          "output_type": "display_data",
          "data": {
            "image/png": "[encoded data removed]",
            "text/plain": [
              "<Figure size 432x288 with 1 Axes>"
            ]
          },
          "metadata": {
            "tags": [],
            "needs_background": "light"
          }
        }
      ]
    },
    {
      "cell_type": "markdown",
      "metadata": {
        "id": "TKGWwQKwI9qC",
        "colab_type": "text"
      },
      "source": [
        "### A/B Testing using T-test"
      ]
    },
    {
      "cell_type": "markdown",
      "metadata": {
        "id": "iq8Od17OL4hy",
        "colab_type": "text"
      },
      "source": [
        "### 1 day retention"
      ]
    },
    {
      "cell_type": "markdown",
      "metadata": {
        "id": "ALgMFFhMKC8b",
        "colab_type": "text"
      },
      "source": [
        "Calculating marginal error using standard error and z score"
      ]
    },
    {
      "cell_type": "code",
      "metadata": {
        "id": "XjgYfzHHLOPW",
        "colab_type": "code",
        "colab": {}
      },
      "source": [
        "retention_day_1 = df.groupby('version')['retention_1'].sum()\n",
        "user_table_day1 = df.groupby('version')['userid'].count()\n",
        "retention_gate_30_day1=round((retention_day_1['gate_30']/user_table_day1['gate_30']),4)\n",
        "retention_gate_40_day1=round((retention_day_1['gate_40']/user_table_day1['gate_40']),4)"
      ],
      "execution_count": 0,
      "outputs": []
    },
    {
      "cell_type": "code",
      "metadata": {
        "id": "5q0Rd6ePI8Zz",
        "colab_type": "code",
        "outputId": "d22a1606-ff93-409d-ed22-b8d8491942e7",
        "colab": {
          "base_uri": "https://localhost:8080/"
        }
      },
      "source": [
        "\n",
        "p_pool_day1 = (retention_day_1['gate_30'] + retention_day_1['gate_40'])/(user_table_day1['gate_30']+user_table_day1['gate_40'])\n",
        "p_pool_day1"
      ],
      "execution_count": 0,
      "outputs": [
        {
          "output_type": "execute_result",
          "data": {
            "text/plain": [
              "0.4452144409455803"
            ]
          },
          "metadata": {
            "tags": []
          },
          "execution_count": 48
        }
      ]
    },
    {
      "cell_type": "code",
      "metadata": {
        "id": "ZPN4OfjiKHt9",
        "colab_type": "code",
        "outputId": "22949a97-5a1d-4a8e-a0c4-97530f0e0963",
        "colab": {
          "base_uri": "https://localhost:8080/"
        }
      },
      "source": [
        "se_pool_day1=round(mt.sqrt(p_pool_day1*(1-p_pool_day1)*(1/user_table_day1['gate_30']+ 1/user_table_day1['gate_40'])),4)\n",
        "se_pool_day1"
      ],
      "execution_count": 0,
      "outputs": [
        {
          "output_type": "execute_result",
          "data": {
            "text/plain": [
              "0.0033"
            ]
          },
          "metadata": {
            "tags": []
          },
          "execution_count": 49
        }
      ]
    },
    {
      "cell_type": "code",
      "metadata": {
        "id": "sVKg9mqYKlTd",
        "colab_type": "code",
        "outputId": "ecd060d1-0594-4ee0-fce9-befbb51ab64b",
        "colab": {
          "base_uri": "https://localhost:8080/"
        }
      },
      "source": [
        "# For 95% confidence interval the value of Z is 1.96 either we can use Z score table or we can use scipy package to calculate it\n",
        "alpha=0.05\n",
        "z=round(norm.ppf(1-alpha/2),2)\n",
        "#Marginal Error calculation\n",
        "Marginal_Error=round((z*se_pool_day1),4)\n",
        "Marginal_Error"
      ],
      "execution_count": 0,
      "outputs": [
        {
          "output_type": "execute_result",
          "data": {
            "text/plain": [
              "0.0065"
            ]
          },
          "metadata": {
            "tags": []
          },
          "execution_count": 50
        }
      ]
    },
    {
      "cell_type": "code",
      "metadata": {
        "id": "Z4GudTW3LKgo",
        "colab_type": "code",
        "outputId": "d74e6185-0949-4cee-fd36-6d4056d996a2",
        "colab": {
          "base_uri": "https://localhost:8080/"
        }
      },
      "source": [
        "#The mean difference in the samples\n",
        "p_difference = round((retention_gate_40_day1-retention_gate_30_day1),4)\n",
        "p_difference"
      ],
      "execution_count": 0,
      "outputs": [
        {
          "output_type": "execute_result",
          "data": {
            "text/plain": [
              "-0.0059"
            ]
          },
          "metadata": {
            "tags": []
          },
          "execution_count": 51
        }
      ]
    },
    {
      "cell_type": "code",
      "metadata": {
        "id": "VDrBMwgILks3",
        "colab_type": "code",
        "outputId": "1437a18c-e961-42d3-e73f-6304f1ab1ed0",
        "colab": {
          "base_uri": "https://localhost:8080/"
        }
      },
      "source": [
        "print (\"The confidence interval is (%s, %s)\" %(p_difference-Marginal_Error,p_difference+Marginal_Error))"
      ],
      "execution_count": 0,
      "outputs": [
        {
          "output_type": "stream",
          "text": [
            "The confidence interval is (-0.0124, 0.0005999999999999998)\n"
          ],
          "name": "stdout"
        }
      ]
    },
    {
      "cell_type": "code",
      "metadata": {
        "id": "91aj2xcaLnp6",
        "colab_type": "code",
        "outputId": "e4c6a869-2f02-4c67-adb7-4fb520519b98",
        "colab": {
          "base_uri": "https://localhost:8080/"
        }
      },
      "source": [
        "t_statistic=p_difference-Marginal_Error\n",
        "t_statistic"
      ],
      "execution_count": 0,
      "outputs": [
        {
          "output_type": "execute_result",
          "data": {
            "text/plain": [
              "-0.0124"
            ]
          },
          "metadata": {
            "tags": []
          },
          "execution_count": 53
        }
      ]
    },
    {
      "cell_type": "code",
      "metadata": {
        "id": "RlclVt97LqeU",
        "colab_type": "code",
        "outputId": "62dfde00-c3bb-416a-ed6f-caa7f51941fb",
        "colab": {
          "base_uri": "https://localhost:8080/"
        }
      },
      "source": [
        "if t_statistic>0.05:\n",
        "    print(\"Experiment performed better than control. It is statistically and practically significant\")\n",
        "elif t_statistic>0:\n",
        "    print(\"Experiment performed better than control.It is statistically significant but not practically\")\n",
        "elif t_statistic<0:\n",
        "    print(\"Control group is better than the Experiment group. Hence, No need to make changes. \")"
      ],
      "execution_count": 0,
      "outputs": [
        {
          "output_type": "stream",
          "text": [
            "Control group is better than the Experiment group. Hence, No need to make changes. \n"
          ],
          "name": "stdout"
        }
      ]
    },
    {
      "cell_type": "code",
      "metadata": {
        "id": "yn4mSC88L0X9",
        "colab_type": "code",
        "outputId": "94567528-87ee-495a-c5d0-efa0fe7ec877",
        "colab": {
          "base_uri": "https://localhost:8080/"
        }
      },
      "source": [
        "#cohen's d\n",
        "d=round((p_difference/se_pool_day1),2)\n",
        "d"
      ],
      "execution_count": 0,
      "outputs": [
        {
          "output_type": "execute_result",
          "data": {
            "text/plain": [
              "-1.79"
            ]
          },
          "metadata": {
            "tags": []
          },
          "execution_count": 55
        }
      ]
    },
    {
      "cell_type": "markdown",
      "metadata": {
        "id": "yBlYv61GL-b0",
        "colab_type": "text"
      },
      "source": [
        "### 7 day retention"
      ]
    },
    {
      "cell_type": "code",
      "metadata": {
        "id": "USKSlnM_Mdkk",
        "colab_type": "code",
        "colab": {}
      },
      "source": [
        "retention_day_7=df.groupby('version')['retention_7'].sum() \n",
        "user_table_day7=df.groupby('version')['userid'].count()\n",
        "retention_gate_30_day7=(retention_day_7['gate_30']/user_table_day7['gate_30'])\n",
        "retention_gate_40_day7=(retention_day_7['gate_40']/user_table_day7['gate_40'])\n"
      ],
      "execution_count": 0,
      "outputs": []
    },
    {
      "cell_type": "code",
      "metadata": {
        "id": "4W8-3vEhL9Tl",
        "colab_type": "code",
        "outputId": "30a6db78-a13f-4aff-b525-a2cc6b1ae927",
        "colab": {
          "base_uri": "https://localhost:8080/",
          "height": 34
        }
      },
      "source": [
        "p_pool_day7 = round((retention_day_7['gate_30'] + retention_day_7['gate_40'])/(user_table_day7['gate_30']+user_table_day7['gate_40']),4)\n",
        "p_pool_day7"
      ],
      "execution_count": 0,
      "outputs": [
        {
          "output_type": "execute_result",
          "data": {
            "text/plain": [
              "0.1861"
            ]
          },
          "metadata": {
            "tags": []
          },
          "execution_count": 57
        }
      ]
    },
    {
      "cell_type": "code",
      "metadata": {
        "id": "35gsBGrOMEWr",
        "colab_type": "code",
        "outputId": "a97af274-13c6-4e01-aef4-cc630e4aba51",
        "colab": {
          "base_uri": "https://localhost:8080/",
          "height": 34
        }
      },
      "source": [
        "se_pool_day7=round(mt.sqrt(p_pool_day7*(1-p_pool_day7)*((1/user_table_day7['gate_30']) + (1/user_table_day7['gate_40']))),4)\n",
        "se_pool_day7"
      ],
      "execution_count": 0,
      "outputs": [
        {
          "output_type": "execute_result",
          "data": {
            "text/plain": [
              "0.0026"
            ]
          },
          "metadata": {
            "tags": []
          },
          "execution_count": 58
        }
      ]
    },
    {
      "cell_type": "code",
      "metadata": {
        "id": "ARcjm2DIMIp8",
        "colab_type": "code",
        "outputId": "1c728184-6742-4132-8539-98f039accd94",
        "colab": {
          "base_uri": "https://localhost:8080/",
          "height": 34
        }
      },
      "source": [
        "# For 95% confidence interval the value of Z is 1.96\n",
        "Marginal_Error_day7=z*se_pool_day7\n",
        "Marginal_Error_day7"
      ],
      "execution_count": 0,
      "outputs": [
        {
          "output_type": "execute_result",
          "data": {
            "text/plain": [
              "0.005096"
            ]
          },
          "metadata": {
            "tags": []
          },
          "execution_count": 59
        }
      ]
    },
    {
      "cell_type": "code",
      "metadata": {
        "id": "rMFDRuhAMK-T",
        "colab_type": "code",
        "outputId": "69c40074-9b9f-4d82-d1a6-8a70a8ac321f",
        "colab": {
          "base_uri": "https://localhost:8080/",
          "height": 34
        }
      },
      "source": [
        "p_difference = round((retention_gate_40_day7-retention_gate_30_day7),4)\n",
        "p_difference"
      ],
      "execution_count": 0,
      "outputs": [
        {
          "output_type": "execute_result",
          "data": {
            "text/plain": [
              "-0.0082"
            ]
          },
          "metadata": {
            "tags": []
          },
          "execution_count": 60
        }
      ]
    },
    {
      "cell_type": "code",
      "metadata": {
        "id": "gao_Y-v7MOQg",
        "colab_type": "code",
        "outputId": "cf1ac786-4221-4667-af09-bd9683463caa",
        "colab": {
          "base_uri": "https://localhost:8080/",
          "height": 34
        }
      },
      "source": [
        "t_statistic_7=p_difference-Marginal_Error_day7\n",
        "t_statistic_7"
      ],
      "execution_count": 0,
      "outputs": [
        {
          "output_type": "execute_result",
          "data": {
            "text/plain": [
              "-0.013296"
            ]
          },
          "metadata": {
            "tags": []
          },
          "execution_count": 61
        }
      ]
    },
    {
      "cell_type": "code",
      "metadata": {
        "id": "ELehaCmlMQHC",
        "colab_type": "code",
        "outputId": "9d443fd5-7f91-4c20-8277-06c22ca28f32",
        "colab": {
          "base_uri": "https://localhost:8080/",
          "height": 34
        }
      },
      "source": [
        "print (\"The confidence interval is\" ,p_difference-Marginal_Error_day7 ,\"and\", p_difference+Marginal_Error_day7,)"
      ],
      "execution_count": 0,
      "outputs": [
        {
          "output_type": "stream",
          "text": [
            "The confidence interval is -0.013296 and -0.003104000000000001\n"
          ],
          "name": "stdout"
        }
      ]
    },
    {
      "cell_type": "code",
      "metadata": {
        "id": "SQQvm2z4MR5u",
        "colab_type": "code",
        "outputId": "5db8ec79-fd08-4c0e-8ee6-faef23195ff1",
        "colab": {
          "base_uri": "https://localhost:8080/",
          "height": 34
        }
      },
      "source": [
        "if t_statistic>0.05:\n",
        "    print(\"Experiment performed better than control. It is statistically and practically significant\")\n",
        "elif t_statistic>0:\n",
        "    print(\"Experiment performed better than control.It is statistically singnificant but not practically\")\n",
        "elif t_statistic<0:\n",
        "    print(\"Control group is better than the Experiment group. Hence, No need to make changes \")"
      ],
      "execution_count": 0,
      "outputs": [
        {
          "output_type": "stream",
          "text": [
            "Control group is better than the Experiment group. Hence, No need to make changes \n"
          ],
          "name": "stdout"
        }
      ]
    },
    {
      "cell_type": "code",
      "metadata": {
        "id": "4ubjJ-QdMXHB",
        "colab_type": "code",
        "outputId": "1a448ebe-7f95-4eee-adb6-0e987bb04ade",
        "colab": {
          "base_uri": "https://localhost:8080/",
          "height": 34
        }
      },
      "source": [
        "#Cohen's d\n",
        "d=p_difference/se_pool_day7\n",
        "d"
      ],
      "execution_count": 0,
      "outputs": [
        {
          "output_type": "execute_result",
          "data": {
            "text/plain": [
              "-3.153846153846154"
            ]
          },
          "metadata": {
            "tags": []
          },
          "execution_count": 64
        }
      ]
    }
  ]
}